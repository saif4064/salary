{
 "cells": [
  {
   "cell_type": "code",
   "execution_count": null,
   "metadata": {},
   "outputs": [
    {
     "name": "stdout",
     "output_type": "stream",
     "text": [
      " * Serving Flask app \"__main__\" (lazy loading)\n",
      " * Environment: production\n",
      "   WARNING: This is a development server. Do not use it in a production deployment.\n",
      "   Use a production WSGI server instead.\n",
      " * Debug mode: off\n"
     ]
    },
    {
     "name": "stderr",
     "output_type": "stream",
     "text": [
      " * Running on http://127.0.0.1:5000/ (Press CTRL+C to quit)\n",
      "127.0.0.1 - - [04/Jul/2020 16:33:11] \"\u001b[37mGET / HTTP/1.1\u001b[0m\" 200 -\n",
      "127.0.0.1 - - [04/Jul/2020 16:33:11] \"\u001b[33mGET /style.css HTTP/1.1\u001b[0m\" 404 -\n",
      "127.0.0.1 - - [04/Jul/2020 16:33:11] \"\u001b[33mGET /static/css/style.css HTTP/1.1\u001b[0m\" 404 -\n",
      "127.0.0.1 - - [04/Jul/2020 16:33:14] \"\u001b[37mPOST /predict HTTP/1.1\u001b[0m\" 200 -\n",
      "127.0.0.1 - - [04/Jul/2020 16:33:14] \"\u001b[33mGET /style.css HTTP/1.1\u001b[0m\" 404 -\n",
      "127.0.0.1 - - [04/Jul/2020 16:33:14] \"\u001b[33mGET /static/css/style.css HTTP/1.1\u001b[0m\" 404 -\n"
     ]
    },
    {
     "name": "stdout",
     "output_type": "stream",
     "text": [
      "[[25]]\n"
     ]
    }
   ],
   "source": [
    "import numpy as np\n",
    "from flask import Flask, request,jsonify,render_template\n",
    "import pickle\n",
    "import numpy as np\n",
    "import math\n",
    "\n",
    "\n",
    "\n",
    "\n",
    "\n",
    "app=Flask(__name__)\n",
    "model=pickle.load(open('salary.pkl','rb'))\n",
    "\n",
    "\n",
    "\n",
    "@app.route('/')\n",
    "def home():   \n",
    "    return render_template(\"jack.html\")\n",
    "@app.route('/predict',methods=[\"GET\",\"Post\"])\n",
    "def predict():\n",
    "    int_features  = [int (x) for x in request.form.values()]\n",
    "    int_features=[int_features]\n",
    "    print(int_features)\n",
    "    predicition=model.predict(int_features)\n",
    "    output=round(predicition[0])\n",
    "    return render_template('jack.html',prediction_text=output)\n",
    "if __name__ == '__main__':\n",
    "    app.run()"
   ]
  },
  {
   "cell_type": "code",
   "execution_count": 1,
   "metadata": {},
   "outputs": [],
   "source": []
  },
  {
   "cell_type": "code",
   "execution_count": null,
   "metadata": {},
   "outputs": [],
   "source": []
  }
 ],
 "metadata": {
  "kernelspec": {
   "display_name": "Python 3",
   "language": "python",
   "name": "python3"
  },
  "language_info": {
   "codemirror_mode": {
    "name": "ipython",
    "version": 3
   },
   "file_extension": ".py",
   "mimetype": "text/x-python",
   "name": "python",
   "nbconvert_exporter": "python",
   "pygments_lexer": "ipython3",
   "version": "3.7.6"
  }
 },
 "nbformat": 4,
 "nbformat_minor": 4
}
